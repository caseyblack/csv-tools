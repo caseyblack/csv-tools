{
  "nbformat": 4,
  "nbformat_minor": 0,
  "metadata": {
    "colab": {
      "name": "generate_pre_filled_form_links_from_csv.ipynb",
      "provenance": []
    },
    "kernelspec": {
      "name": "python3",
      "display_name": "Python 3"
    }
  },
  "cells": [
    {
      "cell_type": "markdown",
      "metadata": {
        "id": "VRuQrzBiF13c",
        "colab_type": "text"
      },
      "source": [
        "# Ever want to create a Google Form with certain fields pre-filled from a CSV?\n",
        "\n",
        "This notebook will go through how to:\n",
        "\n",
        "1.   Generate a google sheet with pre-filled forms links from a CSV\n",
        "\n",
        "The fake data used for this notebook was generated via [Mockaroo](https://www.mockaroo.com/)\n",
        "\n",
        "## Set-up\n",
        "1.   Generate a pre-filled form [link](https://support.google.com/a/users/answer/9308781?hl=en#)\n",
        "2.   Get the names of the columns from your CSV that you would like to use for the forms pre-filled values\n",
        "3.   Edit the base form link, column values, and replace method values\n",
        "\n",
        "Once you are set-up and ready, navigate to the Menu bar, select Runtime, then click Run All"
      ]
    },
    {
      "cell_type": "code",
      "metadata": {
        "id": "KukYOeRmWMM9",
        "colab_type": "code",
        "colab": {},
        "cellView": "form"
      },
      "source": [
        "#@title Import libraries\n",
        "\n",
        "# Import libraries\n",
        "from google.colab import auth\n",
        "from oauth2client.client import GoogleCredentials as GC\n",
        "from gspread_dataframe import set_with_dataframe\n",
        "from datetime import datetime\n",
        "from google.colab import files\n",
        "import gspread\n",
        "import pandas as pd\n",
        "import io\n",
        "import itertools\n",
        "from tqdm import tqdm"
      ],
      "execution_count": null,
      "outputs": []
    },
    {
      "cell_type": "code",
      "metadata": {
        "id": "mYKAB8o6WOmB",
        "colab_type": "code",
        "colab": {},
        "cellView": "form"
      },
      "source": [
        "#@title Authenticate your gmail account\n",
        "\n",
        "# Authenticate gmail\n",
        "auth.authenticate_user()\n",
        "gc = gspread.authorize(GC.get_application_default())"
      ],
      "execution_count": null,
      "outputs": []
    },
    {
      "cell_type": "code",
      "metadata": {
        "id": "ZQ3mBVr9WTQZ",
        "colab_type": "code",
        "colab": {},
        "cellView": "form"
      },
      "source": [
        "#@title Upload your CSV file\n",
        "\n",
        "# Import CSV file\n",
        "uploaded = files.upload()\n",
        "\n",
        "# Grab file name from upload\n",
        "file_name = list(uploaded.keys())[0] \n",
        "\n",
        "# Create dataframe from CSV\n",
        "df = pd.read_csv(io.BytesIO(uploaded[file_name]))"
      ],
      "execution_count": null,
      "outputs": []
    },
    {
      "cell_type": "code",
      "metadata": {
        "id": "fLC0dv2YYW36",
        "colab_type": "code",
        "colab": {
          "base_uri": "https://localhost:8080/",
          "height": 85
        },
        "cellView": "code",
        "outputId": "d06c667f-3bec-471e-a38a-b28f62794dc4"
      },
      "source": [
        "#@title Change the base form link, column values, and replace method values\n",
        "\n",
        "# Add pre-filled form links to list\n",
        "\n",
        "base_form_link = 'https://docs.google.com/forms/d/e/1FAIpQLScFX9rGNpZuO83zwRcHY5onn68vfHKXklUyHhaYAMrO_0wySQ/viewform?usp=pp_url&entry.1787852589=00000&entry.1998997249=John+Doe%0A123+Apartment+Way%0A67'\n",
        "results = []\n",
        "\n",
        "# Create a list of pre-filled form links by iterating through dataframe and performing a replace on the base form link for each row\n",
        "for index, row in df.iterrows():\n",
        "  \n",
        "  # COLUMN VALUES TO CHANGE\n",
        "  id = str(row['id']) #<--------------\n",
        "  first = \"Name: \" + row['first_name'] #<--------------\n",
        "  last = row['last_name'] #<--------------\n",
        "  address = \"Address: \" + row['address'] #<--------------\n",
        "  age = \"Age: \" + str(row['age']) #<--------------\n",
        "\n",
        "  # REPLACE VALUES TO CHANGE\n",
        "  form_link = base_form_link.replace(\"00000\", id).replace(\"John\", first).replace(\"Doe\", last).replace(\"123+Apartment+Way\", address).replace(\"67\", age).replace(\" \",\"+\") #<--------------\n",
        "  \n",
        "  results.append(form_link)\n",
        "\n",
        "# Add form link list into dataframe\n",
        "df['Form Links'] = pd.Series( (v for v in results) )\n",
        "\n",
        "# Get todays date\n",
        "dt = datetime.date(datetime.now())\n",
        "\n",
        "# Create google sheets from sub dataframe\n",
        "with tqdm(total=1) as pbar:\n",
        "  title = '{}_{}'.format(dt,file_name)\n",
        "  gc.create(title)  # if not exist\n",
        "  sheet = gc.open(title).sheet1\n",
        "  set_with_dataframe(sheet, df.reset_index(drop=True))\n",
        "  pbar.update(1)\n",
        "print('\\n\\nYour Google Sheets have been created!')"
      ],
      "execution_count": 5,
      "outputs": [
        {
          "output_type": "stream",
          "text": [
            "100%|██████████| 1/1 [00:04<00:00,  4.68s/it]"
          ],
          "name": "stderr"
        },
        {
          "output_type": "stream",
          "text": [
            "\n",
            "\n",
            "Your Google Sheets have been created!\n"
          ],
          "name": "stdout"
        },
        {
          "output_type": "stream",
          "text": [
            "\n"
          ],
          "name": "stderr"
        }
      ]
    }
  ]
}